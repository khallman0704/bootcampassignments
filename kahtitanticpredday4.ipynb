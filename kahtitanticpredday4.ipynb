{
  "cells": [
    {
      "metadata": {
        "trusted": true
      },
      "cell_type": "code",
      "source": "import pandas as pd\nimport numpy as np\nimport matplotlib.pyplot as plt\nimport time\nfrom sklearn.model_selection import train_test_split\nfrom sklearn.naive_bayes import GaussianNB, BernoulliNB, MultinomialNB\n\n# Importing dataset\ndata = pd.read_csv(\"train.csv\")",
      "execution_count": 34,
      "outputs": []
    },
    {
      "metadata": {
        "trusted": true
      },
      "cell_type": "code",
      "source": "#remove dups\n#sorting by  name \ndata.sort_values(\"Name\", inplace = True) \n  \n#dropping ALL duplicte values \ndata.drop_duplicates(subset =\"Name\", \n                     keep = False, inplace = True) \ndata.head()",
      "execution_count": 35,
      "outputs": [
        {
          "output_type": "execute_result",
          "execution_count": 35,
          "data": {
            "text/html": "<div>\n<style scoped>\n    .dataframe tbody tr th:only-of-type {\n        vertical-align: middle;\n    }\n\n    .dataframe tbody tr th {\n        vertical-align: top;\n    }\n\n    .dataframe thead th {\n        text-align: right;\n    }\n</style>\n<table border=\"1\" class=\"dataframe\">\n  <thead>\n    <tr style=\"text-align: right;\">\n      <th></th>\n      <th>PassengerId</th>\n      <th>Survived</th>\n      <th>Pclass</th>\n      <th>Name</th>\n      <th>Sex</th>\n      <th>Age</th>\n      <th>SibSp</th>\n      <th>Parch</th>\n      <th>Ticket</th>\n      <th>Fare</th>\n      <th>Cabin</th>\n      <th>Embarked</th>\n    </tr>\n  </thead>\n  <tbody>\n    <tr>\n      <th>845</th>\n      <td>846</td>\n      <td>0</td>\n      <td>3</td>\n      <td>Abbing, Mr. Anthony</td>\n      <td>male</td>\n      <td>42.0</td>\n      <td>0</td>\n      <td>0</td>\n      <td>C.A. 5547</td>\n      <td>7.55</td>\n      <td>NaN</td>\n      <td>S</td>\n    </tr>\n    <tr>\n      <th>746</th>\n      <td>747</td>\n      <td>0</td>\n      <td>3</td>\n      <td>Abbott, Mr. Rossmore Edward</td>\n      <td>male</td>\n      <td>16.0</td>\n      <td>1</td>\n      <td>1</td>\n      <td>C.A. 2673</td>\n      <td>20.25</td>\n      <td>NaN</td>\n      <td>S</td>\n    </tr>\n    <tr>\n      <th>279</th>\n      <td>280</td>\n      <td>1</td>\n      <td>3</td>\n      <td>Abbott, Mrs. Stanton (Rosa Hunt)</td>\n      <td>female</td>\n      <td>35.0</td>\n      <td>1</td>\n      <td>1</td>\n      <td>C.A. 2673</td>\n      <td>20.25</td>\n      <td>NaN</td>\n      <td>S</td>\n    </tr>\n    <tr>\n      <th>308</th>\n      <td>309</td>\n      <td>0</td>\n      <td>2</td>\n      <td>Abelson, Mr. Samuel</td>\n      <td>male</td>\n      <td>30.0</td>\n      <td>1</td>\n      <td>0</td>\n      <td>P/PP 3381</td>\n      <td>24.00</td>\n      <td>NaN</td>\n      <td>C</td>\n    </tr>\n    <tr>\n      <th>874</th>\n      <td>875</td>\n      <td>1</td>\n      <td>2</td>\n      <td>Abelson, Mrs. Samuel (Hannah Wizosky)</td>\n      <td>female</td>\n      <td>28.0</td>\n      <td>1</td>\n      <td>0</td>\n      <td>P/PP 3381</td>\n      <td>24.00</td>\n      <td>NaN</td>\n      <td>C</td>\n    </tr>\n  </tbody>\n</table>\n</div>",
            "text/plain": "     PassengerId  Survived  Pclass                                   Name  \\\n845          846         0       3                    Abbing, Mr. Anthony   \n746          747         0       3            Abbott, Mr. Rossmore Edward   \n279          280         1       3       Abbott, Mrs. Stanton (Rosa Hunt)   \n308          309         0       2                    Abelson, Mr. Samuel   \n874          875         1       2  Abelson, Mrs. Samuel (Hannah Wizosky)   \n\n        Sex   Age  SibSp  Parch     Ticket   Fare Cabin Embarked  \n845    male  42.0      0      0  C.A. 5547   7.55   NaN        S  \n746    male  16.0      1      1  C.A. 2673  20.25   NaN        S  \n279  female  35.0      1      1  C.A. 2673  20.25   NaN        S  \n308    male  30.0      1      0  P/PP 3381  24.00   NaN        C  \n874  female  28.0      1      0  P/PP 3381  24.00   NaN        C  "
          },
          "metadata": {}
        }
      ]
    },
    {
      "metadata": {
        "trusted": true
      },
      "cell_type": "code",
      "source": "# dropping passed \"columns \ndata.drop([\"SibSp\", \"Parch\",\"Ticket\", \"Fare\", \"Cabin\", \"Embarked\"], axis = 1, inplace = True)",
      "execution_count": 36,
      "outputs": []
    },
    {
      "metadata": {
        "trusted": true
      },
      "cell_type": "code",
      "source": "import numpy as np\ndata['isBoy'] = np.where((data['Age'] < 18.0) & (data['Sex'] == 'male'), 'yes', 'no')\ndata.tail()",
      "execution_count": 37,
      "outputs": [
        {
          "output_type": "execute_result",
          "execution_count": 37,
          "data": {
            "text/html": "<div>\n<style scoped>\n    .dataframe tbody tr th:only-of-type {\n        vertical-align: middle;\n    }\n\n    .dataframe tbody tr th {\n        vertical-align: top;\n    }\n\n    .dataframe thead th {\n        text-align: right;\n    }\n</style>\n<table border=\"1\" class=\"dataframe\">\n  <thead>\n    <tr style=\"text-align: right;\">\n      <th></th>\n      <th>PassengerId</th>\n      <th>Survived</th>\n      <th>Pclass</th>\n      <th>Name</th>\n      <th>Sex</th>\n      <th>Age</th>\n      <th>isBoy</th>\n    </tr>\n  </thead>\n  <tbody>\n    <tr>\n      <th>286</th>\n      <td>287</td>\n      <td>1</td>\n      <td>3</td>\n      <td>de Mulder, Mr. Theodore</td>\n      <td>male</td>\n      <td>30.0</td>\n      <td>no</td>\n    </tr>\n    <tr>\n      <th>282</th>\n      <td>283</td>\n      <td>0</td>\n      <td>3</td>\n      <td>de Pelsmaeker, Mr. Alfons</td>\n      <td>male</td>\n      <td>16.0</td>\n      <td>yes</td>\n    </tr>\n    <tr>\n      <th>361</th>\n      <td>362</td>\n      <td>0</td>\n      <td>2</td>\n      <td>del Carlo, Mr. Sebastiano</td>\n      <td>male</td>\n      <td>29.0</td>\n      <td>no</td>\n    </tr>\n    <tr>\n      <th>153</th>\n      <td>154</td>\n      <td>0</td>\n      <td>3</td>\n      <td>van Billiard, Mr. Austin Blyler</td>\n      <td>male</td>\n      <td>40.5</td>\n      <td>no</td>\n    </tr>\n    <tr>\n      <th>868</th>\n      <td>869</td>\n      <td>0</td>\n      <td>3</td>\n      <td>van Melkebeke, Mr. Philemon</td>\n      <td>male</td>\n      <td>NaN</td>\n      <td>no</td>\n    </tr>\n  </tbody>\n</table>\n</div>",
            "text/plain": "     PassengerId  Survived  Pclass                             Name   Sex  \\\n286          287         1       3          de Mulder, Mr. Theodore  male   \n282          283         0       3        de Pelsmaeker, Mr. Alfons  male   \n361          362         0       2        del Carlo, Mr. Sebastiano  male   \n153          154         0       3  van Billiard, Mr. Austin Blyler  male   \n868          869         0       3      van Melkebeke, Mr. Philemon  male   \n\n      Age isBoy  \n286  30.0    no  \n282  16.0   yes  \n361  29.0    no  \n153  40.5    no  \n868   NaN    no  "
          },
          "metadata": {}
        }
      ]
    },
    {
      "metadata": {
        "trusted": true
      },
      "cell_type": "code",
      "source": "import seaborn as sns\ngrid = sns.FacetGrid(data, col='Survived', row='Pclass', size=4.2, aspect=1.6)\ngrid.map(plt.hist, 'Age', alpha=.5, bins=80)\ngrid.add_legend();",
      "execution_count": 39,
      "outputs": [
        {
          "output_type": "display_data",
          "data": {
            "image/png": "[encoded data removed]",
            "text/plain": "<matplotlib.figure.Figure at 0x7f536dac6eb8>"
          },
          "metadata": {}
        }
      ]
    },
    {
      "metadata": {
        "trusted": true
      },
      "cell_type": "code",
      "source": "data['isMen'] = np.where((data['Age'] >= 18) & (data['Sex'] == 'male'), 'yes', 'no')\ndata.tail()",
      "execution_count": 9,
      "outputs": [
        {
          "output_type": "execute_result",
          "execution_count": 9,
          "data": {
            "text/html": "<div>\n<style scoped>\n    .dataframe tbody tr th:only-of-type {\n        vertical-align: middle;\n    }\n\n    .dataframe tbody tr th {\n        vertical-align: top;\n    }\n\n    .dataframe thead th {\n        text-align: right;\n    }\n</style>\n<table border=\"1\" class=\"dataframe\">\n  <thead>\n    <tr style=\"text-align: right;\">\n      <th></th>\n      <th>PassengerId</th>\n      <th>Survived</th>\n      <th>Pclass</th>\n      <th>Name</th>\n      <th>Sex</th>\n      <th>Age</th>\n      <th>isBoy</th>\n      <th>isMen</th>\n    </tr>\n  </thead>\n  <tbody>\n    <tr>\n      <th>286</th>\n      <td>287</td>\n      <td>1</td>\n      <td>3</td>\n      <td>de Mulder, Mr. Theodore</td>\n      <td>male</td>\n      <td>30.0</td>\n      <td>no</td>\n      <td>yes</td>\n    </tr>\n    <tr>\n      <th>282</th>\n      <td>283</td>\n      <td>0</td>\n      <td>3</td>\n      <td>de Pelsmaeker, Mr. Alfons</td>\n      <td>male</td>\n      <td>16.0</td>\n      <td>yes</td>\n      <td>no</td>\n    </tr>\n    <tr>\n      <th>361</th>\n      <td>362</td>\n      <td>0</td>\n      <td>2</td>\n      <td>del Carlo, Mr. Sebastiano</td>\n      <td>male</td>\n      <td>29.0</td>\n      <td>no</td>\n      <td>yes</td>\n    </tr>\n    <tr>\n      <th>153</th>\n      <td>154</td>\n      <td>0</td>\n      <td>3</td>\n      <td>van Billiard, Mr. Austin Blyler</td>\n      <td>male</td>\n      <td>40.5</td>\n      <td>no</td>\n      <td>yes</td>\n    </tr>\n    <tr>\n      <th>868</th>\n      <td>869</td>\n      <td>0</td>\n      <td>3</td>\n      <td>van Melkebeke, Mr. Philemon</td>\n      <td>male</td>\n      <td>NaN</td>\n      <td>no</td>\n      <td>no</td>\n    </tr>\n  </tbody>\n</table>\n</div>",
            "text/plain": "     PassengerId  Survived  Pclass                             Name   Sex  \\\n286          287         1       3          de Mulder, Mr. Theodore  male   \n282          283         0       3        de Pelsmaeker, Mr. Alfons  male   \n361          362         0       2        del Carlo, Mr. Sebastiano  male   \n153          154         0       3  van Billiard, Mr. Austin Blyler  male   \n868          869         0       3      van Melkebeke, Mr. Philemon  male   \n\n      Age isBoy isMen  \n286  30.0    no   yes  \n282  16.0   yes    no  \n361  29.0    no   yes  \n153  40.5    no   yes  \n868   NaN    no    no  "
          },
          "metadata": {}
        }
      ]
    },
    {
      "metadata": {
        "trusted": true
      },
      "cell_type": "code",
      "source": "data['isWoman'] = np.where((data['Age'] >= 18) & (data['Sex'] == 'female'), 'yes', 'no')\ndata.tail()",
      "execution_count": 10,
      "outputs": [
        {
          "output_type": "execute_result",
          "execution_count": 10,
          "data": {
            "text/html": "<div>\n<style scoped>\n    .dataframe tbody tr th:only-of-type {\n        vertical-align: middle;\n    }\n\n    .dataframe tbody tr th {\n        vertical-align: top;\n    }\n\n    .dataframe thead th {\n        text-align: right;\n    }\n</style>\n<table border=\"1\" class=\"dataframe\">\n  <thead>\n    <tr style=\"text-align: right;\">\n      <th></th>\n      <th>PassengerId</th>\n      <th>Survived</th>\n      <th>Pclass</th>\n      <th>Name</th>\n      <th>Sex</th>\n      <th>Age</th>\n      <th>isBoy</th>\n      <th>isMen</th>\n      <th>isWoman</th>\n    </tr>\n  </thead>\n  <tbody>\n    <tr>\n      <th>286</th>\n      <td>287</td>\n      <td>1</td>\n      <td>3</td>\n      <td>de Mulder, Mr. Theodore</td>\n      <td>male</td>\n      <td>30.0</td>\n      <td>no</td>\n      <td>yes</td>\n      <td>no</td>\n    </tr>\n    <tr>\n      <th>282</th>\n      <td>283</td>\n      <td>0</td>\n      <td>3</td>\n      <td>de Pelsmaeker, Mr. Alfons</td>\n      <td>male</td>\n      <td>16.0</td>\n      <td>yes</td>\n      <td>no</td>\n      <td>no</td>\n    </tr>\n    <tr>\n      <th>361</th>\n      <td>362</td>\n      <td>0</td>\n      <td>2</td>\n      <td>del Carlo, Mr. Sebastiano</td>\n      <td>male</td>\n      <td>29.0</td>\n      <td>no</td>\n      <td>yes</td>\n      <td>no</td>\n    </tr>\n    <tr>\n      <th>153</th>\n      <td>154</td>\n      <td>0</td>\n      <td>3</td>\n      <td>van Billiard, Mr. Austin Blyler</td>\n      <td>male</td>\n      <td>40.5</td>\n      <td>no</td>\n      <td>yes</td>\n      <td>no</td>\n    </tr>\n    <tr>\n      <th>868</th>\n      <td>869</td>\n      <td>0</td>\n      <td>3</td>\n      <td>van Melkebeke, Mr. Philemon</td>\n      <td>male</td>\n      <td>NaN</td>\n      <td>no</td>\n      <td>no</td>\n      <td>no</td>\n    </tr>\n  </tbody>\n</table>\n</div>",
            "text/plain": "     PassengerId  Survived  Pclass                             Name   Sex  \\\n286          287         1       3          de Mulder, Mr. Theodore  male   \n282          283         0       3        de Pelsmaeker, Mr. Alfons  male   \n361          362         0       2        del Carlo, Mr. Sebastiano  male   \n153          154         0       3  van Billiard, Mr. Austin Blyler  male   \n868          869         0       3      van Melkebeke, Mr. Philemon  male   \n\n      Age isBoy isMen isWoman  \n286  30.0    no   yes      no  \n282  16.0   yes    no      no  \n361  29.0    no   yes      no  \n153  40.5    no   yes      no  \n868   NaN    no    no      no  "
          },
          "metadata": {}
        }
      ]
    },
    {
      "metadata": {
        "trusted": true
      },
      "cell_type": "code",
      "source": "grid = sns.FacetGrid(df, col='Survived', row='Pclass', size=4.2, aspect=1.6)\ngrid.map(plt.hist, 'Age', alpha=.5, bins=80)\ngrid.add_legend();",
      "execution_count": null,
      "outputs": []
    },
    {
      "metadata": {
        "trusted": true,
        "scrolled": true
      },
      "cell_type": "code",
      "source": "data.head()",
      "execution_count": 11,
      "outputs": [
        {
          "output_type": "execute_result",
          "execution_count": 11,
          "data": {
            "text/html": "<div>\n<style scoped>\n    .dataframe tbody tr th:only-of-type {\n        vertical-align: middle;\n    }\n\n    .dataframe tbody tr th {\n        vertical-align: top;\n    }\n\n    .dataframe thead th {\n        text-align: right;\n    }\n</style>\n<table border=\"1\" class=\"dataframe\">\n  <thead>\n    <tr style=\"text-align: right;\">\n      <th></th>\n      <th>PassengerId</th>\n      <th>Survived</th>\n      <th>Pclass</th>\n      <th>Name</th>\n      <th>Sex</th>\n      <th>Age</th>\n      <th>isBoy</th>\n      <th>isMen</th>\n      <th>isWoman</th>\n    </tr>\n  </thead>\n  <tbody>\n    <tr>\n      <th>845</th>\n      <td>846</td>\n      <td>0</td>\n      <td>3</td>\n      <td>Abbing, Mr. Anthony</td>\n      <td>male</td>\n      <td>42.0</td>\n      <td>no</td>\n      <td>yes</td>\n      <td>no</td>\n    </tr>\n    <tr>\n      <th>746</th>\n      <td>747</td>\n      <td>0</td>\n      <td>3</td>\n      <td>Abbott, Mr. Rossmore Edward</td>\n      <td>male</td>\n      <td>16.0</td>\n      <td>yes</td>\n      <td>no</td>\n      <td>no</td>\n    </tr>\n    <tr>\n      <th>279</th>\n      <td>280</td>\n      <td>1</td>\n      <td>3</td>\n      <td>Abbott, Mrs. Stanton (Rosa Hunt)</td>\n      <td>female</td>\n      <td>35.0</td>\n      <td>no</td>\n      <td>no</td>\n      <td>yes</td>\n    </tr>\n    <tr>\n      <th>308</th>\n      <td>309</td>\n      <td>0</td>\n      <td>2</td>\n      <td>Abelson, Mr. Samuel</td>\n      <td>male</td>\n      <td>30.0</td>\n      <td>no</td>\n      <td>yes</td>\n      <td>no</td>\n    </tr>\n    <tr>\n      <th>874</th>\n      <td>875</td>\n      <td>1</td>\n      <td>2</td>\n      <td>Abelson, Mrs. Samuel (Hannah Wizosky)</td>\n      <td>female</td>\n      <td>28.0</td>\n      <td>no</td>\n      <td>no</td>\n      <td>yes</td>\n    </tr>\n  </tbody>\n</table>\n</div>",
            "text/plain": "     PassengerId  Survived  Pclass                                   Name  \\\n845          846         0       3                    Abbing, Mr. Anthony   \n746          747         0       3            Abbott, Mr. Rossmore Edward   \n279          280         1       3       Abbott, Mrs. Stanton (Rosa Hunt)   \n308          309         0       2                    Abelson, Mr. Samuel   \n874          875         1       2  Abelson, Mrs. Samuel (Hannah Wizosky)   \n\n        Sex   Age isBoy isMen isWoman  \n845    male  42.0    no   yes      no  \n746    male  16.0   yes    no      no  \n279  female  35.0    no    no     yes  \n308    male  30.0    no   yes      no  \n874  female  28.0    no    no     yes  "
          },
          "metadata": {}
        }
      ]
    },
    {
      "metadata": {
        "trusted": true
      },
      "cell_type": "code",
      "source": "# Convert categorical variable to numeric\ndata[\"Sex_cleaned\"]=np.where(data[\"Sex\"]==\"male\",0,1)",
      "execution_count": 14,
      "outputs": []
    },
    {
      "metadata": {
        "trusted": true
      },
      "cell_type": "code",
      "source": "# Cleaning dataset of NaN\ndata=data[[\n    \"Survived\",\n    \"Pclass\",\n    \"Sex_cleaned\",\n    \"Age\"\n]].dropna(axis=0, how='any')",
      "execution_count": 17,
      "outputs": []
    },
    {
      "metadata": {
        "trusted": true
      },
      "cell_type": "code",
      "source": "# Split dataset in training and test datasets\nX_train, X_test = train_test_split(data, test_size=0.5, random_state=int(time.time()))",
      "execution_count": 18,
      "outputs": []
    },
    {
      "metadata": {
        "trusted": true
      },
      "cell_type": "code",
      "source": "# Instantiate the classifier\ngnb = GaussianNB()\nused_features =[\n    \"Pclass\",\n    \"Survived\",\n    \"Sex_cleaned\",\n    \"Age\" \n   \n]\n\n# Train classifier\ngnb.fit(\n    X_train[used_features].values,\n    X_train[\"Survived\"]\n)\ny_pred = gnb.predict(X_test[used_features])\n\n# Print results\nprint(\"Number of mislabeled points out of a total {} points : {}, performance {:05.2f}%\"\n      .format(\n          X_test.shape[0],\n          (X_test[\"Survived\"] != y_pred).sum(),\n          100*(1-(X_test[\"Survived\"] != y_pred).sum()/X_test.shape[0])\n))",
      "execution_count": 26,
      "outputs": [
        {
          "output_type": "stream",
          "text": "Number of mislabeled points out of a total 357 points : 0, performance 100.00%\n",
          "name": "stdout"
        }
      ]
    },
    {
      "metadata": {
        "trusted": true
      },
      "cell_type": "code",
      "source": "mean_survival=np.mean(X_train[\"Survived\"])\nmean_not_survival=1-mean_survival\nprint(\"Survival prob = {:03.2f}%, Not survival prob = {:03.2f}%\"\n      .format(100*mean_survival,100*mean_not_survival))",
      "execution_count": 27,
      "outputs": [
        {
          "output_type": "stream",
          "text": "Survival prob = 43.98%, Not survival prob = 56.02%\n",
          "name": "stdout"
        }
      ]
    },
    {
      "metadata": {
        "trusted": true,
        "scrolled": true
      },
      "cell_type": "code",
      "source": "mean_fare_survived = np.mean(X_train[X_train[\"Survived\"]==1][\"Pclass\"])\nstd_fare_survived = np.std(X_train[X_train[\"Survived\"]==1][\"Pclass\"])\n\nprint(\"mean_fare_survived = {:03.2f}\".format(mean_fare_survived))\nprint(\"std_fare_survived = {:03.2f}\".format(std_fare_survived))\n",
      "execution_count": 28,
      "outputs": [
        {
          "output_type": "stream",
          "text": "mean_fare_survived = 1.87\nstd_fare_survived = 0.81\n",
          "name": "stdout"
        }
      ]
    },
    {
      "metadata": {
        "trusted": true,
        "scrolled": true
      },
      "cell_type": "code",
      "source": "X_train.head()\n",
      "execution_count": 29,
      "outputs": [
        {
          "output_type": "execute_result",
          "execution_count": 29,
          "data": {
            "text/html": "<div>\n<style scoped>\n    .dataframe tbody tr th:only-of-type {\n        vertical-align: middle;\n    }\n\n    .dataframe tbody tr th {\n        vertical-align: top;\n    }\n\n    .dataframe thead th {\n        text-align: right;\n    }\n</style>\n<table border=\"1\" class=\"dataframe\">\n  <thead>\n    <tr style=\"text-align: right;\">\n      <th></th>\n      <th>Survived</th>\n      <th>Pclass</th>\n      <th>Sex_cleaned</th>\n      <th>Age</th>\n    </tr>\n  </thead>\n  <tbody>\n    <tr>\n      <th>663</th>\n      <td>0</td>\n      <td>3</td>\n      <td>0</td>\n      <td>36.0</td>\n    </tr>\n    <tr>\n      <th>853</th>\n      <td>1</td>\n      <td>1</td>\n      <td>1</td>\n      <td>16.0</td>\n    </tr>\n    <tr>\n      <th>730</th>\n      <td>1</td>\n      <td>1</td>\n      <td>1</td>\n      <td>29.0</td>\n    </tr>\n    <tr>\n      <th>830</th>\n      <td>1</td>\n      <td>3</td>\n      <td>1</td>\n      <td>15.0</td>\n    </tr>\n    <tr>\n      <th>699</th>\n      <td>0</td>\n      <td>3</td>\n      <td>0</td>\n      <td>42.0</td>\n    </tr>\n  </tbody>\n</table>\n</div>",
            "text/plain": "     Survived  Pclass  Sex_cleaned   Age\n663         0       3            0  36.0\n853         1       1            1  16.0\n730         1       1            1  29.0\n830         1       3            1  15.0\n699         0       3            0  42.0"
          },
          "metadata": {}
        }
      ]
    },
    {
      "metadata": {
        "trusted": true
      },
      "cell_type": "code",
      "source": "X_test.head()",
      "execution_count": 30,
      "outputs": [
        {
          "output_type": "execute_result",
          "execution_count": 30,
          "data": {
            "text/html": "<div>\n<style scoped>\n    .dataframe tbody tr th:only-of-type {\n        vertical-align: middle;\n    }\n\n    .dataframe tbody tr th {\n        vertical-align: top;\n    }\n\n    .dataframe thead th {\n        text-align: right;\n    }\n</style>\n<table border=\"1\" class=\"dataframe\">\n  <thead>\n    <tr style=\"text-align: right;\">\n      <th></th>\n      <th>Survived</th>\n      <th>Pclass</th>\n      <th>Sex_cleaned</th>\n      <th>Age</th>\n    </tr>\n  </thead>\n  <tbody>\n    <tr>\n      <th>346</th>\n      <td>1</td>\n      <td>2</td>\n      <td>1</td>\n      <td>40.0</td>\n    </tr>\n    <tr>\n      <th>146</th>\n      <td>1</td>\n      <td>3</td>\n      <td>0</td>\n      <td>27.0</td>\n    </tr>\n    <tr>\n      <th>735</th>\n      <td>0</td>\n      <td>3</td>\n      <td>0</td>\n      <td>28.5</td>\n    </tr>\n    <tr>\n      <th>144</th>\n      <td>0</td>\n      <td>2</td>\n      <td>0</td>\n      <td>18.0</td>\n    </tr>\n    <tr>\n      <th>96</th>\n      <td>0</td>\n      <td>1</td>\n      <td>0</td>\n      <td>71.0</td>\n    </tr>\n  </tbody>\n</table>\n</div>",
            "text/plain": "     Survived  Pclass  Sex_cleaned   Age\n346         1       2            1  40.0\n146         1       3            0  27.0\n735         0       3            0  28.5\n144         0       2            0  18.0\n96          0       1            0  71.0"
          },
          "metadata": {}
        }
      ]
    },
    {
      "metadata": {
        "trusted": true,
        "scrolled": true
      },
      "cell_type": "code",
      "source": "from sklearn.naive_bayes import GaussianNB\ngnb = GaussianNB()\nused_features =[\"Pclass\",\"Sex_cleaned\",\"Age\"]\ny_pred = gnb.fit(X_train[used_features].values, X_train[\"Survived\"]).predict(X_test[used_features])\nprint(\"Number of mislabeled points out of a total {} points : {}, performance {:05.2f}%\"\n      .format(\n          X_test.shape[0],\n          (X_test[\"Survived\"] != y_pred).sum(),\n          100*(1-(X_test[\"Survived\"] != y_pred).sum()/X_test.shape[0])\n))\n\nprint(\"class survived: {:05.2f}\".format(np.sqrt(gnb.sigma_)[1][0]))\n\nprint(\"Mean class survived: {:05.2f}\".format(gnb.theta_[1][0]))",
      "execution_count": 33,
      "outputs": [
        {
          "output_type": "stream",
          "text": "Number of mislabeled points out of a total 357 points : 80, performance 77.59%\nclass survived: 00.81\nMean class survived: 01.87\n",
          "name": "stdout"
        }
      ]
    },
    {
      "metadata": {
        "trusted": true
      },
      "cell_type": "code",
      "source": "",
      "execution_count": null,
      "outputs": []
    }
  ],
  "metadata": {
    "kernelspec": {
      "name": "python36",
      "display_name": "Python 3.6",
      "language": "python"
    },
    "language_info": {
      "mimetype": "text/x-python",
      "nbconvert_exporter": "python",
      "name": "python",
      "pygments_lexer": "ipython3",
      "version": "3.6.6",
      "file_extension": ".py",
      "codemirror_mode": {
        "version": 3,
        "name": "ipython"
      }
    }
  },
  "nbformat": 4,
  "nbformat_minor": 1
}