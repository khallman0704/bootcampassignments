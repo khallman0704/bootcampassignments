{
  "cells": [
    {
      "metadata": {
        "trusted": true
      },
      "cell_type": "code",
      "source": "import pandas as pd\nimport matplotlib.pyplot as plt",
      "execution_count": 1,
      "outputs": []
    },
    {
      "metadata": {
        "trusted": true
      },
      "cell_type": "code",
      "source": "import pandas as pd\ndf = pd.read_excel('titanic3.xls')",
      "execution_count": 2,
      "outputs": []
    },
    {
      "metadata": {
        "trusted": true
      },
      "cell_type": "code",
      "source": "df.sort_values(\"name\", inplace = True) \n  \n#dropping ALL duplicte values \ndf.drop_duplicates(subset =\"name\", \n                     keep = False, inplace = True) \ndf.head()",
      "execution_count": 3,
      "outputs": [
        {
          "output_type": "execute_result",
          "execution_count": 3,
          "data": {
            "text/html": "<div>\n<style scoped>\n    .dataframe tbody tr th:only-of-type {\n        vertical-align: middle;\n    }\n\n    .dataframe tbody tr th {\n        vertical-align: top;\n    }\n\n    .dataframe thead th {\n        text-align: right;\n    }\n</style>\n<table border=\"1\" class=\"dataframe\">\n  <thead>\n    <tr style=\"text-align: right;\">\n      <th></th>\n      <th>pclass</th>\n      <th>survived</th>\n      <th>name</th>\n      <th>sex</th>\n      <th>age</th>\n      <th>sibsp</th>\n      <th>parch</th>\n      <th>ticket</th>\n      <th>fare</th>\n      <th>cabin</th>\n      <th>embarked</th>\n      <th>boat</th>\n      <th>body</th>\n      <th>home.dest</th>\n    </tr>\n  </thead>\n  <tbody>\n    <tr>\n      <th>600</th>\n      <td>3</td>\n      <td>0</td>\n      <td>Abbing, Mr. Anthony</td>\n      <td>male</td>\n      <td>42.0</td>\n      <td>0</td>\n      <td>0</td>\n      <td>C.A. 5547</td>\n      <td>7.55</td>\n      <td>NaN</td>\n      <td>S</td>\n      <td>NaN</td>\n      <td>NaN</td>\n      <td>NaN</td>\n    </tr>\n    <tr>\n      <th>601</th>\n      <td>3</td>\n      <td>0</td>\n      <td>Abbott, Master. Eugene Joseph</td>\n      <td>male</td>\n      <td>13.0</td>\n      <td>0</td>\n      <td>2</td>\n      <td>C.A. 2673</td>\n      <td>20.25</td>\n      <td>NaN</td>\n      <td>S</td>\n      <td>NaN</td>\n      <td>NaN</td>\n      <td>East Providence, RI</td>\n    </tr>\n    <tr>\n      <th>602</th>\n      <td>3</td>\n      <td>0</td>\n      <td>Abbott, Mr. Rossmore Edward</td>\n      <td>male</td>\n      <td>16.0</td>\n      <td>1</td>\n      <td>1</td>\n      <td>C.A. 2673</td>\n      <td>20.25</td>\n      <td>NaN</td>\n      <td>S</td>\n      <td>NaN</td>\n      <td>190.0</td>\n      <td>East Providence, RI</td>\n    </tr>\n    <tr>\n      <th>603</th>\n      <td>3</td>\n      <td>1</td>\n      <td>Abbott, Mrs. Stanton (Rosa Hunt)</td>\n      <td>female</td>\n      <td>35.0</td>\n      <td>1</td>\n      <td>1</td>\n      <td>C.A. 2673</td>\n      <td>20.25</td>\n      <td>NaN</td>\n      <td>S</td>\n      <td>A</td>\n      <td>NaN</td>\n      <td>East Providence, RI</td>\n    </tr>\n    <tr>\n      <th>604</th>\n      <td>3</td>\n      <td>1</td>\n      <td>Abelseth, Miss. Karen Marie</td>\n      <td>female</td>\n      <td>16.0</td>\n      <td>0</td>\n      <td>0</td>\n      <td>348125</td>\n      <td>7.65</td>\n      <td>NaN</td>\n      <td>S</td>\n      <td>16</td>\n      <td>NaN</td>\n      <td>Norway Los Angeles, CA</td>\n    </tr>\n  </tbody>\n</table>\n</div>",
            "text/plain": "     pclass  survived                              name     sex   age  sibsp  \\\n600       3         0               Abbing, Mr. Anthony    male  42.0      0   \n601       3         0     Abbott, Master. Eugene Joseph    male  13.0      0   \n602       3         0       Abbott, Mr. Rossmore Edward    male  16.0      1   \n603       3         1  Abbott, Mrs. Stanton (Rosa Hunt)  female  35.0      1   \n604       3         1       Abelseth, Miss. Karen Marie  female  16.0      0   \n\n     parch     ticket   fare cabin embarked boat   body  \\\n600      0  C.A. 5547   7.55   NaN        S  NaN    NaN   \n601      2  C.A. 2673  20.25   NaN        S  NaN    NaN   \n602      1  C.A. 2673  20.25   NaN        S  NaN  190.0   \n603      1  C.A. 2673  20.25   NaN        S    A    NaN   \n604      0     348125   7.65   NaN        S   16    NaN   \n\n                  home.dest  \n600                     NaN  \n601     East Providence, RI  \n602     East Providence, RI  \n603     East Providence, RI  \n604  Norway Los Angeles, CA  "
          },
          "metadata": {}
        }
      ]
    },
    {
      "metadata": {
        "trusted": true
      },
      "cell_type": "code",
      "source": "# dropping passed \"columns \ndf.drop([\"sibsp\", \"parch\",\"ticket\", \"cabin\", \"embarked\", \"boat\", \"body\", \"home.dest\"], axis = 1, inplace = True)",
      "execution_count": 4,
      "outputs": []
    },
    {
      "metadata": {
        "trusted": true,
        "scrolled": true
      },
      "cell_type": "code",
      "source": "\ndf.head()",
      "execution_count": 5,
      "outputs": [
        {
          "output_type": "execute_result",
          "execution_count": 5,
          "data": {
            "text/html": "<div>\n<style scoped>\n    .dataframe tbody tr th:only-of-type {\n        vertical-align: middle;\n    }\n\n    .dataframe tbody tr th {\n        vertical-align: top;\n    }\n\n    .dataframe thead th {\n        text-align: right;\n    }\n</style>\n<table border=\"1\" class=\"dataframe\">\n  <thead>\n    <tr style=\"text-align: right;\">\n      <th></th>\n      <th>pclass</th>\n      <th>survived</th>\n      <th>name</th>\n      <th>sex</th>\n      <th>age</th>\n      <th>fare</th>\n    </tr>\n  </thead>\n  <tbody>\n    <tr>\n      <th>600</th>\n      <td>3</td>\n      <td>0</td>\n      <td>Abbing, Mr. Anthony</td>\n      <td>male</td>\n      <td>42.0</td>\n      <td>7.55</td>\n    </tr>\n    <tr>\n      <th>601</th>\n      <td>3</td>\n      <td>0</td>\n      <td>Abbott, Master. Eugene Joseph</td>\n      <td>male</td>\n      <td>13.0</td>\n      <td>20.25</td>\n    </tr>\n    <tr>\n      <th>602</th>\n      <td>3</td>\n      <td>0</td>\n      <td>Abbott, Mr. Rossmore Edward</td>\n      <td>male</td>\n      <td>16.0</td>\n      <td>20.25</td>\n    </tr>\n    <tr>\n      <th>603</th>\n      <td>3</td>\n      <td>1</td>\n      <td>Abbott, Mrs. Stanton (Rosa Hunt)</td>\n      <td>female</td>\n      <td>35.0</td>\n      <td>20.25</td>\n    </tr>\n    <tr>\n      <th>604</th>\n      <td>3</td>\n      <td>1</td>\n      <td>Abelseth, Miss. Karen Marie</td>\n      <td>female</td>\n      <td>16.0</td>\n      <td>7.65</td>\n    </tr>\n  </tbody>\n</table>\n</div>",
            "text/plain": "     pclass  survived                              name     sex   age   fare\n600       3         0               Abbing, Mr. Anthony    male  42.0   7.55\n601       3         0     Abbott, Master. Eugene Joseph    male  13.0  20.25\n602       3         0       Abbott, Mr. Rossmore Edward    male  16.0  20.25\n603       3         1  Abbott, Mrs. Stanton (Rosa Hunt)  female  35.0  20.25\n604       3         1       Abelseth, Miss. Karen Marie  female  16.0   7.65"
          },
          "metadata": {}
        }
      ]
    },
    {
      "metadata": {
        "trusted": true
      },
      "cell_type": "code",
      "source": "df_notsurvived = df[ df['survived'] == 0 ]\n\ndf = df.drop(df_notsurvived.index, axis=0)\ndf.head()",
      "execution_count": 12,
      "outputs": [
        {
          "output_type": "execute_result",
          "execution_count": 12,
          "data": {
            "text/html": "<div>\n<style scoped>\n    .dataframe tbody tr th:only-of-type {\n        vertical-align: middle;\n    }\n\n    .dataframe tbody tr th {\n        vertical-align: top;\n    }\n\n    .dataframe thead th {\n        text-align: right;\n    }\n</style>\n<table border=\"1\" class=\"dataframe\">\n  <thead>\n    <tr style=\"text-align: right;\">\n      <th></th>\n      <th>pclass</th>\n      <th>survived</th>\n      <th>name</th>\n      <th>sex</th>\n      <th>age</th>\n      <th>fare</th>\n    </tr>\n  </thead>\n  <tbody>\n    <tr>\n      <th>603</th>\n      <td>3</td>\n      <td>1</td>\n      <td>Abbott, Mrs. Stanton (Rosa Hunt)</td>\n      <td>female</td>\n      <td>35.0</td>\n      <td>20.250</td>\n    </tr>\n    <tr>\n      <th>604</th>\n      <td>3</td>\n      <td>1</td>\n      <td>Abelseth, Miss. Karen Marie</td>\n      <td>female</td>\n      <td>16.0</td>\n      <td>7.650</td>\n    </tr>\n    <tr>\n      <th>605</th>\n      <td>3</td>\n      <td>1</td>\n      <td>Abelseth, Mr. Olaus Jorgensen</td>\n      <td>male</td>\n      <td>25.0</td>\n      <td>7.650</td>\n    </tr>\n    <tr>\n      <th>324</th>\n      <td>2</td>\n      <td>1</td>\n      <td>Abelson, Mrs. Samuel (Hannah Wizosky)</td>\n      <td>female</td>\n      <td>28.0</td>\n      <td>24.000</td>\n    </tr>\n    <tr>\n      <th>606</th>\n      <td>3</td>\n      <td>1</td>\n      <td>Abrahamsson, Mr. Abraham August Johannes</td>\n      <td>male</td>\n      <td>20.0</td>\n      <td>7.925</td>\n    </tr>\n  </tbody>\n</table>\n</div>",
            "text/plain": "     pclass  survived                                      name     sex   age  \\\n603       3         1          Abbott, Mrs. Stanton (Rosa Hunt)  female  35.0   \n604       3         1               Abelseth, Miss. Karen Marie  female  16.0   \n605       3         1             Abelseth, Mr. Olaus Jorgensen    male  25.0   \n324       2         1     Abelson, Mrs. Samuel (Hannah Wizosky)  female  28.0   \n606       3         1  Abrahamsson, Mr. Abraham August Johannes    male  20.0   \n\n       fare  \n603  20.250  \n604   7.650  \n605   7.650  \n324  24.000  \n606   7.925  "
          },
          "metadata": {}
        }
      ]
    },
    {
      "metadata": {
        "trusted": true
      },
      "cell_type": "code",
      "source": "#table = pd.pivot_table(df, values='name', index='sex', columns='survived', 'age', aggfunc='count')\n#print(table)\n#age = pd.cut(df['age'], [0, 18, 80])\n#df.pivot_table('survived', ['sex', 'age'], 'pclass')\n\n#df['fare'] = np.where()\ndf.pivot_table(index='sex', columns='pclass',\n                    aggfunc={'survived':sum, 'fare':'mean'})\n\n#1 class fare helped femals but not males.... per survival",
      "execution_count": 27,
      "outputs": [
        {
          "output_type": "execute_result",
          "execution_count": 27,
          "data": {
            "text/html": "<div>\n<style scoped>\n    .dataframe tbody tr th:only-of-type {\n        vertical-align: middle;\n    }\n\n    .dataframe tbody tr th {\n        vertical-align: top;\n    }\n\n    .dataframe thead tr th {\n        text-align: left;\n    }\n\n    .dataframe thead tr:last-of-type th {\n        text-align: right;\n    }\n</style>\n<table border=\"1\" class=\"dataframe\">\n  <thead>\n    <tr>\n      <th></th>\n      <th colspan=\"3\" halign=\"left\">fare</th>\n      <th colspan=\"3\" halign=\"left\">survived</th>\n    </tr>\n    <tr>\n      <th>pclass</th>\n      <th>1</th>\n      <th>2</th>\n      <th>3</th>\n      <th>1</th>\n      <th>2</th>\n      <th>3</th>\n    </tr>\n    <tr>\n      <th>sex</th>\n      <th></th>\n      <th></th>\n      <th></th>\n      <th></th>\n      <th></th>\n      <th></th>\n    </tr>\n  </thead>\n  <tbody>\n    <tr>\n      <th>female</th>\n      <td>109.137500</td>\n      <td>23.759486</td>\n      <td>12.208572</td>\n      <td>139</td>\n      <td>94</td>\n      <td>105</td>\n    </tr>\n    <tr>\n      <th>male</th>\n      <td>72.697546</td>\n      <td>20.183000</td>\n      <td>13.977496</td>\n      <td>61</td>\n      <td>25</td>\n      <td>75</td>\n    </tr>\n  </tbody>\n</table>\n</div>",
            "text/plain": "              fare                       survived         \npclass           1          2          3        1   2    3\nsex                                                       \nfemale  109.137500  23.759486  12.208572      139  94  105\nmale     72.697546  20.183000  13.977496       61  25   75"
          },
          "metadata": {}
        }
      ]
    },
    {
      "metadata": {
        "trusted": true
      },
      "cell_type": "code",
      "source": "",
      "execution_count": null,
      "outputs": []
    }
  ],
  "metadata": {
    "kernelspec": {
      "name": "python36",
      "display_name": "Python 3.6",
      "language": "python"
    },
    "language_info": {
      "mimetype": "text/x-python",
      "nbconvert_exporter": "python",
      "name": "python",
      "pygments_lexer": "ipython3",
      "version": "3.6.6",
      "file_extension": ".py",
      "codemirror_mode": {
        "version": 3,
        "name": "ipython"
      }
    }
  },
  "nbformat": 4,
  "nbformat_minor": 2
}