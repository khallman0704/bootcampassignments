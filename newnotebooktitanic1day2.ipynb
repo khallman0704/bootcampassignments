{
  "cells": [
    {
      "metadata": {
        "trusted": true,
        "scrolled": true
      },
      "cell_type": "code",
      "source": "import pandas\ndf = pandas.read_excel('titanic3.xls')",
      "execution_count": 21,
      "outputs": []
    },
    {
      "metadata": {
        "trusted": true,
        "scrolled": true
      },
      "cell_type": "code",
      "source": "#check each \n#print(df)\nsex = {'male': 0,'female': 1} \ndf.sex = [sex[item] for item in df.sex] \n#print(df) ",
      "execution_count": 22,
      "outputs": []
    },
    {
      "metadata": {
        "trusted": true
      },
      "cell_type": "code",
      "source": "#remove dups\n#sorting by  name \ndf.sort_values(\"name\", inplace = True) \n  \n#dropping ALL duplicte values \ndf.drop_duplicates(subset =\"name\", \n                     keep = False, inplace = True) \ndf.head()",
      "execution_count": 26,
      "outputs": [
        {
          "output_type": "execute_result",
          "execution_count": 26,
          "data": {
            "text/plain": "     pclass  survived                              name  sex   age  sibsp  \\\n600       3         0               Abbing, Mr. Anthony    0  42.0      0   \n601       3         0     Abbott, Master. Eugene Joseph    0  13.0      0   \n602       3         0       Abbott, Mr. Rossmore Edward    0  16.0      1   \n603       3         1  Abbott, Mrs. Stanton (Rosa Hunt)    1  35.0      1   \n604       3         1       Abelseth, Miss. Karen Marie    1  16.0      0   \n\n     parch     ticket   fare cabin embarked boat   body  \\\n600      0  C.A. 5547   7.55   NaN        S  NaN    NaN   \n601      2  C.A. 2673  20.25   NaN        S  NaN    NaN   \n602      1  C.A. 2673  20.25   NaN        S  NaN  190.0   \n603      1  C.A. 2673  20.25   NaN        S    A    NaN   \n604      0     348125   7.65   NaN        S   16    NaN   \n\n                  home.dest  \n600                     NaN  \n601     East Providence, RI  \n602     East Providence, RI  \n603     East Providence, RI  \n604  Norway Los Angeles, CA  ",
            "text/html": "<div>\n<table border=\"1\" class=\"dataframe\">\n  <thead>\n    <tr style=\"text-align: right;\">\n      <th></th>\n      <th>pclass</th>\n      <th>survived</th>\n      <th>name</th>\n      <th>sex</th>\n      <th>age</th>\n      <th>sibsp</th>\n      <th>parch</th>\n      <th>ticket</th>\n      <th>fare</th>\n      <th>cabin</th>\n      <th>embarked</th>\n      <th>boat</th>\n      <th>body</th>\n      <th>home.dest</th>\n    </tr>\n  </thead>\n  <tbody>\n    <tr>\n      <th>600</th>\n      <td>3</td>\n      <td>0</td>\n      <td>Abbing, Mr. Anthony</td>\n      <td>0</td>\n      <td>42.0</td>\n      <td>0</td>\n      <td>0</td>\n      <td>C.A. 5547</td>\n      <td>7.55</td>\n      <td>NaN</td>\n      <td>S</td>\n      <td>NaN</td>\n      <td>NaN</td>\n      <td>NaN</td>\n    </tr>\n    <tr>\n      <th>601</th>\n      <td>3</td>\n      <td>0</td>\n      <td>Abbott, Master. Eugene Joseph</td>\n      <td>0</td>\n      <td>13.0</td>\n      <td>0</td>\n      <td>2</td>\n      <td>C.A. 2673</td>\n      <td>20.25</td>\n      <td>NaN</td>\n      <td>S</td>\n      <td>NaN</td>\n      <td>NaN</td>\n      <td>East Providence, RI</td>\n    </tr>\n    <tr>\n      <th>602</th>\n      <td>3</td>\n      <td>0</td>\n      <td>Abbott, Mr. Rossmore Edward</td>\n      <td>0</td>\n      <td>16.0</td>\n      <td>1</td>\n      <td>1</td>\n      <td>C.A. 2673</td>\n      <td>20.25</td>\n      <td>NaN</td>\n      <td>S</td>\n      <td>NaN</td>\n      <td>190.0</td>\n      <td>East Providence, RI</td>\n    </tr>\n    <tr>\n      <th>603</th>\n      <td>3</td>\n      <td>1</td>\n      <td>Abbott, Mrs. Stanton (Rosa Hunt)</td>\n      <td>1</td>\n      <td>35.0</td>\n      <td>1</td>\n      <td>1</td>\n      <td>C.A. 2673</td>\n      <td>20.25</td>\n      <td>NaN</td>\n      <td>S</td>\n      <td>A</td>\n      <td>NaN</td>\n      <td>East Providence, RI</td>\n    </tr>\n    <tr>\n      <th>604</th>\n      <td>3</td>\n      <td>1</td>\n      <td>Abelseth, Miss. Karen Marie</td>\n      <td>1</td>\n      <td>16.0</td>\n      <td>0</td>\n      <td>0</td>\n      <td>348125</td>\n      <td>7.65</td>\n      <td>NaN</td>\n      <td>S</td>\n      <td>16</td>\n      <td>NaN</td>\n      <td>Norway Los Angeles, CA</td>\n    </tr>\n  </tbody>\n</table>\n</div>"
          },
          "metadata": {}
        }
      ]
    },
    {
      "metadata": {
        "trusted": true,
        "scrolled": true
      },
      "cell_type": "code",
      "source": "#sum total survivied\nSumsurvivied = sum(df.survived) \nprint(Sumsurvivied)",
      "execution_count": 30,
      "outputs": [
        {
          "output_type": "stream",
          "text": "499\n",
          "name": "stdout"
        }
      ]
    },
    {
      "metadata": {
        "trusted": true
      },
      "cell_type": "code",
      "source": "print(df)",
      "execution_count": 31,
      "outputs": [
        {
          "output_type": "stream",
          "text": "      pclass  survived                                             name  sex  \\\n600        3         0                              Abbing, Mr. Anthony    0   \n601        3         0                    Abbott, Master. Eugene Joseph    0   \n602        3         0                      Abbott, Mr. Rossmore Edward    0   \n603        3         1                 Abbott, Mrs. Stanton (Rosa Hunt)    1   \n604        3         1                      Abelseth, Miss. Karen Marie    1   \n605        3         1                    Abelseth, Mr. Olaus Jorgensen    0   \n323        2         0                              Abelson, Mr. Samuel    0   \n324        2         1            Abelson, Mrs. Samuel (Hannah Wizosky)    1   \n606        3         1         Abrahamsson, Mr. Abraham August Johannes    0   \n607        3         1        Abrahim, Mrs. Joseph (Sophie Halaut Easu)    1   \n608        3         0                   Adahl, Mr. Mauritz Nils Martin    0   \n609        3         0                                  Adams, Mr. John    0   \n610        3         0   Ahlin, Mrs. Johan (Johanna Persdotter Larsson)    1   \n611        3         1                        Aks, Master. Philip Frank    0   \n612        3         1                       Aks, Mrs. Sam (Leah Rosen)    1   \n613        3         1                      Albimona, Mr. Nassef Cassem    0   \n325        2         0                   Aldworth, Mr. Charles Augustus    0   \n614        3         0                           Alexander, Mr. William    0   \n615        3         0                      Alhomaki, Mr. Ilmari Rudolf    0   \n616        3         0                                   Ali, Mr. Ahmed    0   \n617        3         0                                 Ali, Mr. William    0   \n0          1         1                    Allen, Miss. Elisabeth Walton    1   \n618        3         0                         Allen, Mr. William Henry    0   \n1          1         1                   Allison, Master. Hudson Trevor    0   \n2          1         0                     Allison, Miss. Helen Loraine    1   \n3          1         0             Allison, Mr. Hudson Joshua Creighton    0   \n4          1         0  Allison, Mrs. Hudson J C (Bessie Waldo Daniels)    1   \n619        3         0                           Allum, Mr. Owen George    0   \n620        3         0                      Andersen, Mr. Albert Karvin    0   \n621        3         1  Andersen-Jensen, Miss. Carla Christine Nielsine    1   \n...      ...       ...                                              ...  ...   \n1295       3         0                              Windelov, Mr. Einar    0   \n1296       3         0                                 Wirz, Mr. Albert    0   \n1297       3         0                           Wiseman, Mr. Phillippe    0   \n1298       3         0                        Wittevrongel, Mr. Camille    0   \n320        1         1                                Woolner, Mr. Hugh    0   \n598        2         1                             Wright, Miss. Marion    1   \n321        1         0                               Wright, Mr. George    0   \n1299       3         0                              Yasbeck, Mr. Antoni    0   \n1300       3         1          Yasbeck, Mrs. Antoni (Selini Alexander)    1   \n322        1         1                         Young, Miss. Marie Grice    1   \n1301       3         0                             Youseff, Mr. Gerious    0   \n1302       3         0                                Yousif, Mr. Wazli    0   \n1303       3         0                            Yousseff, Mr. Gerious    0   \n599        2         0           Yrois, Miss. Henriette (\"Mrs Harbeck\")    1   \n1304       3         0                             Zabour, Miss. Hileni    1   \n1305       3         0                            Zabour, Miss. Thamine    1   \n1306       3         0                        Zakarian, Mr. Mapriededer    0   \n1307       3         0                              Zakarian, Mr. Ortin    0   \n1308       3         0                               Zimmerman, Mr. Leo    0   \n389        2         0                       de Brito, Mr. Jose Joaquim    0   \n758        3         1             de Messemaeker, Mr. Guillaume Joseph    0   \n759        3         1     de Messemaeker, Mrs. Guillaume Joseph (Emma)    1   \n760        3         1                          de Mulder, Mr. Theodore    0   \n761        3         0                        de Pelsmaeker, Mr. Alfons    0   \n391        2         0                        del Carlo, Mr. Sebastiano    0   \n392        2         1    del Carlo, Mrs. Sebastiano (Argenia Genovesi)    1   \n1262       3         0              van Billiard, Master. James William    0   \n1263       3         0                van Billiard, Master. Walter John    0   \n1264       3         0                  van Billiard, Mr. Austin Blyler    0   \n1268       3         0                      van Melkebeke, Mr. Philemon    0   \n\n          age  sibsp  parch              ticket      fare    cabin embarked  \\\n600   42.0000      0      0           C.A. 5547    7.5500      NaN        S   \n601   13.0000      0      2           C.A. 2673   20.2500      NaN        S   \n602   16.0000      1      1           C.A. 2673   20.2500      NaN        S   \n603   35.0000      1      1           C.A. 2673   20.2500      NaN        S   \n604   16.0000      0      0              348125    7.6500      NaN        S   \n605   25.0000      0      0              348122    7.6500    F G63        S   \n323   30.0000      1      0           P/PP 3381   24.0000      NaN        C   \n324   28.0000      1      0           P/PP 3381   24.0000      NaN        C   \n606   20.0000      0      0    SOTON/O2 3101284    7.9250      NaN        S   \n607   18.0000      0      0                2657    7.2292      NaN        C   \n608   30.0000      0      0              C 7076    7.2500      NaN        S   \n609   26.0000      0      0              341826    8.0500      NaN        S   \n610   40.0000      1      0                7546    9.4750      NaN        S   \n611    0.8333      0      1              392091    9.3500      NaN        S   \n612   18.0000      0      1              392091    9.3500      NaN        S   \n613   26.0000      0      0                2699   18.7875      NaN        C   \n325   30.0000      0      0              248744   13.0000      NaN        S   \n614   26.0000      0      0                3474    7.8875      NaN        S   \n615   20.0000      0      0    SOTON/O2 3101287    7.9250      NaN        S   \n616   24.0000      0      0  SOTON/O.Q. 3101311    7.0500      NaN        S   \n617   25.0000      0      0  SOTON/O.Q. 3101312    7.0500      NaN        S   \n0     29.0000      0      0               24160  211.3375       B5        S   \n618   35.0000      0      0              373450    8.0500      NaN        S   \n1      0.9167      1      2              113781  151.5500  C22 C26        S   \n2      2.0000      1      2              113781  151.5500  C22 C26        S   \n3     30.0000      1      2              113781  151.5500  C22 C26        S   \n4     25.0000      1      2              113781  151.5500  C22 C26        S   \n619   18.0000      0      0                2223    8.3000      NaN        S   \n620   32.0000      0      0              C 4001   22.5250      NaN        S   \n621   19.0000      1      0              350046    7.8542      NaN        S   \n...       ...    ...    ...                 ...       ...      ...      ...   \n1295  21.0000      0      0    SOTON/OQ 3101317    7.2500      NaN        S   \n1296  27.0000      0      0              315154    8.6625      NaN        S   \n1297      NaN      0      0          A/4. 34244    7.2500      NaN        S   \n1298  36.0000      0      0              345771    9.5000      NaN        S   \n320       NaN      0      0               19947   35.5000      C52        S   \n598   26.0000      0      0              220844   13.5000      NaN        S   \n321   62.0000      0      0              113807   26.5500      NaN        S   \n1299  27.0000      1      0                2659   14.4542      NaN        C   \n1300  15.0000      1      0                2659   14.4542      NaN        C   \n322   36.0000      0      0            PC 17760  135.6333      C32        C   \n1301  45.5000      0      0                2628    7.2250      NaN        C   \n1302      NaN      0      0                2647    7.2250      NaN        C   \n1303      NaN      0      0                2627   14.4583      NaN        C   \n599   24.0000      0      0              248747   13.0000      NaN        S   \n1304  14.5000      1      0                2665   14.4542      NaN        C   \n1305      NaN      1      0                2665   14.4542      NaN        C   \n1306  26.5000      0      0                2656    7.2250      NaN        C   \n1307  27.0000      0      0                2670    7.2250      NaN        C   \n1308  29.0000      0      0              315082    7.8750      NaN        S   \n389   32.0000      0      0              244360   13.0000      NaN        S   \n758   36.5000      1      0              345572   17.4000      NaN        S   \n759   36.0000      1      0              345572   17.4000      NaN        S   \n760   30.0000      0      0              345774    9.5000      NaN        S   \n761   16.0000      0      0              345778    9.5000      NaN        S   \n391   29.0000      1      0       SC/PARIS 2167   27.7208      NaN        C   \n392   24.0000      1      0       SC/PARIS 2167   27.7208      NaN        C   \n1262      NaN      1      1            A/5. 851   14.5000      NaN        S   \n1263  11.5000      1      1            A/5. 851   14.5000      NaN        S   \n1264  40.5000      0      2            A/5. 851   14.5000      NaN        S   \n1268      NaN      0      0              345777    9.5000      NaN        S   \n\n     boat   body                                          home.dest  \n600   NaN    NaN                                                NaN  \n601   NaN    NaN                                East Providence, RI  \n602   NaN  190.0                                East Providence, RI  \n603     A    NaN                                East Providence, RI  \n604    16    NaN                             Norway Los Angeles, CA  \n605     A    NaN                                 Perkins County, SD  \n323   NaN    NaN                                Russia New York, NY  \n324    10    NaN                                Russia New York, NY  \n606    15    NaN                  Taalintehdas, Finland Hoboken, NJ  \n607     C    NaN                                     Greensburg, PA  \n608   NaN   72.0                        Asarum, Sweden Brooklyn, NY  \n609   NaN  103.0                               Bournemouth, England  \n610   NaN    NaN                                  Sweden Akeley, MN  \n611    11    NaN                        London, England Norfolk, VA  \n612    13    NaN                        London, England Norfolk, VA  \n613    15    NaN                           Syria Fredericksburg, VA  \n325   NaN    NaN                                 Bryn Mawr, PA, USA  \n614   NaN    NaN                                 England Albion, NY  \n615   NaN    NaN                          Salo, Finland Astoria, OR  \n616   NaN    NaN                                                NaN  \n617   NaN   79.0                                          Argentina  \n0       2    NaN                                       St Louis, MO  \n618   NaN    NaN  Lower Clapton, Middlesex or Erdington, Birmingham  \n1      11    NaN                    Montreal, PQ / Chesterville, ON  \n2     NaN    NaN                    Montreal, PQ / Chesterville, ON  \n3     NaN  135.0                    Montreal, PQ / Chesterville, ON  \n4     NaN    NaN                    Montreal, PQ / Chesterville, ON  \n619   NaN  259.0                      Windsor, England New York, NY  \n620   NaN  260.0                                     Bergen, Norway  \n621    16    NaN                                                NaN  \n...   ...    ...                                                ...  \n1295  NaN    NaN                                                NaN  \n1296  NaN  131.0                                                NaN  \n1297  NaN    NaN                                                NaN  \n1298  NaN    NaN                                                NaN  \n320     D    NaN                                    London, England  \n598     9    NaN                Yoevil, England / Cottage Grove, OR  \n321   NaN    NaN                                        Halifax, NS  \n1299    C    NaN                                                NaN  \n1300  NaN    NaN                                                NaN  \n322     8    NaN                      New York, NY / Washington, DC  \n1301  NaN  312.0                                                NaN  \n1302  NaN    NaN                                                NaN  \n1303  NaN    NaN                                                NaN  \n599   NaN    NaN                                              Paris  \n1304  NaN  328.0                                                NaN  \n1305  NaN    NaN                                                NaN  \n1306  NaN  304.0                                                NaN  \n1307  NaN    NaN                                                NaN  \n1308  NaN    NaN                                                NaN  \n389   NaN    NaN                       Portugal / Sau Paulo, Brazil  \n758    15    NaN                                        Tampico, MT  \n759    13    NaN                                        Tampico, MT  \n760    11    NaN                                Belgium Detroit, MI  \n761   NaN    NaN                                                NaN  \n391   NaN  295.0                          Lucca, Italy / California  \n392    12    NaN                          Lucca, Italy / California  \n1262  NaN    NaN                                                NaN  \n1263  NaN    1.0                                                NaN  \n1264  NaN  255.0                                                NaN  \n1268  NaN    NaN                                                NaN  \n\n[1305 rows x 14 columns]\n",
          "name": "stdout"
        }
      ]
    },
    {
      "metadata": {
        "trusted": true
      },
      "cell_type": "code",
      "source": "",
      "execution_count": null,
      "outputs": []
    }
  ],
  "metadata": {
    "kernelspec": {
      "name": "python3",
      "display_name": "Python 3",
      "language": "python"
    },
    "language_info": {
      "mimetype": "text/x-python",
      "nbconvert_exporter": "python",
      "name": "python",
      "pygments_lexer": "ipython3",
      "version": "3.5.4",
      "file_extension": ".py",
      "codemirror_mode": {
        "version": 3,
        "name": "ipython"
      }
    }
  },
  "nbformat": 4,
  "nbformat_minor": 2
}